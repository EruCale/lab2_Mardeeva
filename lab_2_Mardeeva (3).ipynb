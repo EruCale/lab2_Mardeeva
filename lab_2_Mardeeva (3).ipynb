{
 "cells": [
  {
   "cell_type": "markdown",
   "id": "23adf285-9fcd-41d9-b984-4a73bc362bec",
   "metadata": {},
   "source": [
    "# Лабораторна робота №2. Функція 'print()'"
   ]
  },
  {
   "cell_type": "markdown",
   "id": "a93287f6-c042-435b-ab5f-13528cf64ebd",
   "metadata": {},
   "source": [
    "_Мета_: _навчитися писати і запускати найпростіші програми на Python з використанням функції 'print()'_"
   ]
  },
  {
   "cell_type": "markdown",
   "id": "715a408f-b849-4ba4-af86-520eb39f844d",
   "metadata": {},
   "source": [
    "1. Виконала завдання наведене в методичці з 1 до 6."
   ]
  },
  {
   "cell_type": "code",
   "execution_count": null,
   "id": "ed865014-8536-4485-83dd-0584013f300b",
   "metadata": {},
   "outputs": [],
   "source": [
    "### Завдання №1\n",
    "Змінила код програми, щоби очикуваний результат виглядав наступним чином:"
   ]
  },
  {
   "cell_type": "code",
   "execution_count": null,
   "id": "094bad60-1830-4573-9d5e-a2a02fc14919",
   "metadata": {},
   "outputs": [],
   "source": [
    "print(\"Programming ***\",\"Essential ***\",\"in ...\",\"Python\")"
   ]
  },
  {
   "cell_type": "code",
   "execution_count": null,
   "id": "c15aaae5-2285-4636-8a8a-b2963c2c10ab",
   "metadata": {},
   "outputs": [],
   "source": [
    "### Завдання №2\n",
    "Написала програму, яка виводила б на екран наступну картинку:"
   ]
  },
  {
   "cell_type": "code",
   "execution_count": null,
   "id": "2eb28bff-f9cc-45c9-a2a1-d84104c976ad",
   "metadata": {},
   "outputs": [],
   "source": [
    "print(\"    *    \")\n",
    "print(\"   * *   \")\n",
    "print(\"  *   *  \")\n",
    "print(\" *     * \")\n",
    "print(\"***   ***\")\n",
    "print(\"  *   *  \")\n",
    "print(\"  *   *  \")\n",
    "print(\"  *****  \")"
   ]
  },
  {
   "cell_type": "code",
   "execution_count": null,
   "id": "cd2cc398-2b1d-482f-8a99-883abec57f81",
   "metadata": {},
   "outputs": [],
   "source": [
    "### Завдання №3\n",
    "Вивела на екран наступний рядок:"
   ]
  },
  {
   "cell_type": "code",
   "execution_count": null,
   "id": "7331594b-d246-452e-bf1a-a8ab549bfb9a",
   "metadata": {},
   "outputs": [],
   "source": [
    "print(\"I`m student\")"
   ]
  },
  {
   "cell_type": "code",
   "execution_count": null,
   "id": "728e97de-5e3f-4aaf-bc4f-ef55a31376df",
   "metadata": {},
   "outputs": [],
   "source": [
    "### Завдання №4\n",
    "Написала фрагмент кода в один рядок, використовуючи функцію print(), а також символи нового рядка та esсape-символи, щоби відповідати очикуваному результату, виведеному у трьох рядках:"
   ]
  },
  {
   "cell_type": "code",
   "execution_count": null,
   "id": "4e87582f-a627-49a5-8c35-082da35ad599",
   "metadata": {},
   "outputs": [],
   "source": [
    "print(\"I`m\\nlearning\\nPython\")"
   ]
  },
  {
   "cell_type": "code",
   "execution_count": null,
   "id": "0f716a9c-9a9c-49ea-90a1-03fa43db2751",
   "metadata": {},
   "outputs": [],
   "source": [
    "### Завдання №5\n",
    "Код для десяткової системи 500_8"
   ]
  },
  {
   "cell_type": "code",
   "execution_count": null,
   "id": "573f8e6a-5385-40b0-bbcb-9d95617718f4",
   "metadata": {},
   "outputs": [],
   "source": [
    "octal_number = '500'\n",
    "decimal_number = int(octal_number, 8)\n",
    "print(decimal_number)"
   ]
  },
  {
   "cell_type": "code",
   "execution_count": null,
   "id": "7557cfe7-2f6a-4d74-965c-5310a32e9bb5",
   "metadata": {},
   "outputs": [],
   "source": [
    "### Завдання №6\n",
    "Код для десяткової системи 777_16"
   ]
  },
  {
   "cell_type": "code",
   "execution_count": null,
   "id": "f4014193-9ffa-4d10-83be-5816a70ab946",
   "metadata": {},
   "outputs": [],
   "source": [
    "hex_number = '777'\n",
    "decimal_number = int(hex_number, 16)\n",
    "print(decimal_number)"
   ]
  },
  {
   "cell_type": "code",
   "execution_count": null,
   "id": "cb205abf-6155-4287-b81b-23715d36cf4b",
   "metadata": {},
   "outputs": [],
   "source": [
    "![image.png](результат.png)"
   ]
  },
  {
   "cell_type": "markdown",
   "id": "a33c35ae-86f6-4776-a85c-2258b92eac25",
   "metadata": {},
   "source": [
    "2. Створила файл lab_2_Mardeeva.py з написаним кодом."
   ]
  },
  {
   "cell_type": "markdown",
   "id": "c54cf903-4ebd-4472-ad06-3d70f489604a",
   "metadata": {},
   "source": [
    "3. Закомітила файл у локальний репозиторій."
   ]
  },
  {
   "cell_type": "markdown",
   "id": "4c10cb35-149c-423a-aeee-8709bf13e858",
   "metadata": {},
   "source": [
    "4. Відправила (“запушила”) поточну версію Git-проєкта у віддалений репозиторій на GitHub."
   ]
  },
  {
   "cell_type": "code",
   "execution_count": null,
   "id": "0e00d079-3604-4343-9055-2bedd8559e68",
   "metadata": {},
   "outputs": [],
   "source": [
    "![image.png](git.png)"
   ]
  },
  {
   "cell_type": "markdown",
   "id": "1280ff8e-6181-497f-a5b1-96597d5db52e",
   "metadata": {},
   "source": [
    "## Контрольні запитання\n",
    "1. Записати ієрархію операторів.\n",
    "    * 1    :     +,-      унарний\n",
    "    * 2    :      **\n",
    "    * 3    :    *,/,%\n",
    "    * 4    :     +,-      бінарний\n",
    "2. Записти на Python обчислення виразу 3^34.\n",
    "   * result = 3 ** (3 ** 4)\n",
    "   *  print(result)\n",
    "\n",
    "3. Що робить escape-символ при виводі на екран функцією print()?\n",
    "   * \\n - новий рядок\n",
    "\n",
    "   * \\t - табуляція\n",
    "\n",
    "   * \\\\ - зворотний слеш\n",
    "\n",
    "   *  \\\" - подвійні лапки\n",
    "\n",
    "   *  \\' - одинарні лапки"
   ]
  },
  {
   "cell_type": "code",
   "execution_count": null,
   "id": "e6c492d7-7898-49d2-8be9-ec0740cdefdb",
   "metadata": {},
   "outputs": [],
   "source": []
  }
 ],
 "metadata": {
  "kernelspec": {
   "display_name": "Python 3 (ipykernel)",
   "language": "python",
   "name": "python3"
  },
  "language_info": {
   "codemirror_mode": {
    "name": "ipython",
    "version": 3
   },
   "file_extension": ".py",
   "mimetype": "text/x-python",
   "name": "python",
   "nbconvert_exporter": "python",
   "pygments_lexer": "ipython3",
   "version": "3.12.4"
  }
 },
 "nbformat": 4,
 "nbformat_minor": 5
}
